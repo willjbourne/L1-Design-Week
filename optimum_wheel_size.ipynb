{
 "cells": [
  {
   "cell_type": "markdown",
   "metadata": {
    "collapsed": true,
    "pycharm": {
     "name": "#%% md\n"
    }
   },
   "source": [
    "# How do you optimise the wheel size to minimise potential energy in the moving vehicle?\n",
    "## William Bourne, Feb 2021"
   ]
  },
  {
   "cell_type": "code",
   "execution_count": 60,
   "metadata": {
    "pycharm": {
     "name": "#%%\n"
    }
   },
   "outputs": [],
   "source": [
    "import numpy as np\n",
    "import matplotlib.pyplot as plt\n",
    "import sys"
   ]
  },
  {
   "cell_type": "markdown",
   "metadata": {},
   "source": [
    "### Defining Vehicle Properties"
   ]
  },
  {
   "cell_type": "code",
   "execution_count": 61,
   "metadata": {
    "pycharm": {
     "name": "#%%s\n"
    }
   },
   "outputs": [],
   "source": [
    "density = 10.93                     # kg/m^2    density of the wheel in terms of the CSA\n",
    "max_driving_force = 10               # N         what total driving force do the wheels need to exert on the ground\n",
    "travel_dist = 8                     # m        Total distance to travel\n",
    "travel_time = 120                   # s         How long is the journey allowed to take?\n",
    "static_mass = 0.7                   # kg        the non-rotating mass of the vehicle"
   ]
  },
  {
   "cell_type": "markdown",
   "metadata": {},
   "source": [
    "### Defining Simulation Parameters"
   ]
  },
  {
   "cell_type": "code",
   "execution_count": 62,
   "metadata": {
    "pycharm": {
     "name": "#%%\n"
    }
   },
   "outputs": [],
   "source": [
    "num_data_points = 2000\n",
    "max_wheel_radius = 0.1      # m     maximum wheel radius to simulate"
   ]
  },
  {
   "cell_type": "markdown",
   "metadata": {
    "pycharm": {
     "name": "#%% md\n"
    }
   },
   "source": [
    "### Finding Energy stored by rotating wheel"
   ]
  },
  {
   "cell_type": "code",
   "execution_count": 80,
   "metadata": {
    "pycharm": {
     "name": "#%%\n"
    }
   },
   "outputs": [],
   "source": [
    "r = np.linspace(1e-50, max_wheel_radius, num_data_points)       # m      wheel radius\n",
    "\n",
    "omega = travel_dist / (r * travel_time)         # rad/s     wheel rotation speed\n",
    "mass = density*np.pi*r**2                       # kg        mass of a single wheel\n",
    "I = 0.5*mass*r**2                               #           Mass Moment of inertia\n",
    "rot_E = 0.5 * I * omega**2                      # J         the rotational kinetic energy in a wheel"
   ]
  },
  {
   "cell_type": "markdown",
   "metadata": {
    "pycharm": {
     "name": "#%% md\n"
    }
   },
   "source": [
    "### Finding energy stored by moving vehicle"
   ]
  },
  {
   "cell_type": "code",
   "execution_count": 81,
   "metadata": {
    "pycharm": {
     "name": "#%%\n"
    }
   },
   "outputs": [],
   "source": [
    "total_mass = static_mass + 4*mass                 # kg        total mass of repeatable vehicle\n",
    "vel = travel_dist / travel_time                 # m/s       required speed of vehicle\n",
    "lin_E = 0.5*total_mass*vel**2"
   ]
  },
  {
   "cell_type": "markdown",
   "metadata": {
    "pycharm": {
     "name": "#%% md\n"
    }
   },
   "source": [
    "### Find total kinetic energy in moving vehicle & Plot results"
   ]
  },
  {
   "cell_type": "code",
   "execution_count": 82,
   "metadata": {
    "pycharm": {
     "name": "#%% \n"
    }
   },
   "outputs": [
    {
     "data": {
      "text/plain": [
       "Text(0, 0.5, 'Energy, J')"
      ]
     },
     "execution_count": 82,
     "metadata": {},
     "output_type": "execute_result"
    },
    {
     "data": {
      "image/png": "[encoded data removed]",
      "text/plain": [
       "<Figure size 432x288 with 1 Axes>"
      ]
     },
     "metadata": {
      "needs_background": "light"
     },
     "output_type": "display_data"
    }
   ],
   "source": [
    "E = lin_E + 4*rot_E\n",
    "plt.plot(r, E)\n",
    "plt.xlabel('Wheel Radius, m')\n",
    "plt.ylabel('Energy, J')"
   ]
  },
  {
   "cell_type": "markdown",
   "metadata": {
    "pycharm": {
     "name": "#%% md\n"
    }
   },
   "source": [
    "### In Conclusion\n",
    "As you increase the wheel radius, The kinetic energy stored in the vehicle. To store the minimum potential energy whilst driving, you should have the minimum feasable wheel size. However, remember that the higher wheel rotation speeds required with a small wheel will result in more energy loss due to friction & accelerated wear & tear of spinning componants.\n"
   ]
  },
  {
   "cell_type": "code",
   "execution_count": null,
   "outputs": [],
   "source": [
    "mask = r > 0.005                   # prevent asymptote flattening useful graph data\n",
    "plt.plot(r[mask], omega[mask]*((1/(2*np.pi))*60))\n",
    "plt.xlabel('Wheel Radius, m')\n",
    "plt.ylabel('Required Rotation Speed, rpm')"
   ],
   "metadata": {
    "collapsed": false,
    "pycharm": {
     "name": "#%%\n"
    }
   }
  },
  {
   "cell_type": "code",
   "execution_count": 86,
   "metadata": {},
   "outputs": [
    {
     "data": {
      "text/plain": [
       "Text(0, 0.5, 'Required Rotation Speed, rpm')"
      ]
     },
     "execution_count": 86,
     "metadata": {},
     "output_type": "execute_result"
    },
    {
     "data": {
      "image/png": "[encoded data removed]",
      "text/plain": [
       "<Figure size 432x288 with 1 Axes>"
      ]
     },
     "metadata": {
      "needs_background": "light"
     },
     "output_type": "display_data"
    }
   ],
   "source": [
    "mask = r > 0.005                   # prevent asymptote flattening useful graph data\n",
    "plt.plot(r[mask], omega[mask]*((1/(2*np.pi))*60))\n",
    "plt.xlabel('Wheel Radius, m')\n",
    "plt.ylabel('Required Rotation Speed, rpm')"
   ]
  }
 ],
 "metadata": {
  "kernelspec": {
   "display_name": "Python 3",
   "language": "python",
   "name": "python3"
  },
  "language_info": {
   "codemirror_mode": {
    "name": "ipython",
    "version": 3
   },
   "file_extension": ".py",
   "mimetype": "text/x-python",
   "name": "python",
   "nbconvert_exporter": "python",
   "pygments_lexer": "ipython3",
   "version": "3.7.9"
  }
 },
 "nbformat": 4,
 "nbformat_minor": 1
}