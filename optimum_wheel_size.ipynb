{
 "cells": [
  {
   "cell_type": "markdown",
   "metadata": {
    "collapsed": true,
    "pycharm": {
     "name": "#%% md\n"
    }
   },
   "source": [
    "# How do you optimise the wheel size to minimise potential energy in the moving vehicle?\n",
    "## William Bourne, Feb 2021"
   ]
  },
  {
   "cell_type": "code",
   "execution_count": 27,
   "metadata": {
    "pycharm": {
     "name": "#%%\n"
    }
   },
   "outputs": [],
   "source": [
    "import numpy as np\n",
    "import matplotlib.pyplot as plt\n",
    "import sys\n",
    "import pandas as pd"
   ]
  },
  {
   "cell_type": "markdown",
   "metadata": {},
   "source": [
    "### Defining Vehicle Properties"
   ]
  },
  {
   "cell_type": "code",
   "execution_count": 28,
   "metadata": {
    "pycharm": {
     "name": "#%%s\n"
    }
   },
   "outputs": [],
   "source": [
    "density = 10.93                     # kg/m^2    density of the wheel in terms of the CSA\n",
    "max_driving_force = 10               # N         what total driving force do the wheels need to exert on the ground\n",
    "travel_dist = 8                     # m        Total distance to travel\n",
    "travel_time = 120                   # s         How long is the journey allowed to take?\n",
    "static_mass = 0.7                   # kg        the non-rotating mass of the vehicle\n",
    "mu = 0.71                           #           coefficient of dynamic friction for the driveshaft   \n",
    "r_ds = 0.003                        # m.        driveshaft radius"
   ]
  },
  {
   "cell_type": "markdown",
   "metadata": {},
   "source": [
    "### Defining Simulation Parameters"
   ]
  },
  {
   "cell_type": "code",
   "execution_count": 29,
   "metadata": {
    "pycharm": {
     "name": "#%%\n"
    }
   },
   "outputs": [],
   "source": [
    "num_data_points = 2000\n",
    "max_wheel_radius = 0.1      # m     maximum wheel radius to simulate\n",
    "g = 9.81                    # m/s^2 acceleration due to gravity"
   ]
  },
  {
   "cell_type": "markdown",
   "metadata": {
    "pycharm": {
     "name": "#%% md\n"
    }
   },
   "source": [
    "### Finding Energy stored by rotating wheel"
   ]
  },
  {
   "cell_type": "code",
   "execution_count": 30,
   "metadata": {
    "pycharm": {
     "name": "#%%\n"
    }
   },
   "outputs": [],
   "source": [
    "r = np.linspace(1e-50, max_wheel_radius, num_data_points)       # m      wheel radius\n",
    "\n",
    "omega = travel_dist / (r * travel_time)         # rad/s     wheel rotation speed\n",
    "mass = density*np.pi*r**2                       # kg        mass of a single wheel\n",
    "I = 0.5*mass*r**2                               #           Mass Moment of inertia\n",
    "rot_E = 0.5 * I * omega**2                      # J         the rotational kinetic energy in a wheel"
   ]
  },
  {
   "cell_type": "markdown",
   "metadata": {
    "pycharm": {
     "name": "#%% md\n"
    }
   },
   "source": [
    "### Finding energy stored by moving vehicle"
   ]
  },
  {
   "cell_type": "code",
   "execution_count": 31,
   "metadata": {
    "pycharm": {
     "name": "#%%\n"
    }
   },
   "outputs": [],
   "source": [
    "total_mass = static_mass + 4*mass                 # kg        total mass of repeatable vehicle\n",
    "vel = travel_dist / travel_time                 # m/s       required speed of vehicle\n",
    "lin_E = 0.5*total_mass*vel**2"
   ]
  },
  {
   "cell_type": "markdown",
   "metadata": {
    "pycharm": {
     "name": "#%% md\n"
    }
   },
   "source": [
    "### Find total kinetic energy in moving vehicle & Plot results"
   ]
  },
  {
   "cell_type": "code",
   "execution_count": 32,
   "metadata": {
    "pycharm": {
     "name": "#%% \n"
    }
   },
   "outputs": [
    {
     "data": {
      "text/plain": [
       "Text(0, 0.5, 'Energy, J')"
      ]
     },
     "execution_count": 32,
     "metadata": {},
     "output_type": "execute_result"
    },
    {
     "data": {
      "image/png": "[encoded data removed]",
      "text/plain": [
       "<Figure size 432x288 with 1 Axes>"
      ]
     },
     "metadata": {
      "needs_background": "light"
     },
     "output_type": "display_data"
    }
   ],
   "source": [
    "E = lin_E + 4*rot_E\n",
    "plt.plot(r, E)\n",
    "plt.xlabel('Wheel Radius, m')\n",
    "plt.ylabel('Energy, J')"
   ]
  },
  {
   "cell_type": "markdown",
   "metadata": {
    "pycharm": {
     "name": "#%% md\n"
    }
   },
   "source": [
    "### In Conclusion\n",
    "As you increase the wheel radius, The kinetic energy stored in the vehicle. To store the minimum potential energy whilst driving, you should have the minimum feasable wheel size. However, remember that the higher wheel rotation speeds required with a small wheel will result in more energy loss due to friction & accelerated wear & tear of spinning componants.\n"
   ]
  },
  {
   "cell_type": "code",
   "execution_count": 33,
   "metadata": {
    "pycharm": {
     "name": "#%%\n"
    }
   },
   "outputs": [
    {
     "data": {
      "text/plain": [
       "Text(0, 0.5, 'Required Rotation Speed, rpm')"
      ]
     },
     "execution_count": 33,
     "metadata": {},
     "output_type": "execute_result"
    },
    {
     "data": {
      "image/png": "[encoded data removed]",
      "text/plain": [
       "<Figure size 432x288 with 1 Axes>"
      ]
     },
     "metadata": {
      "needs_background": "light"
     },
     "output_type": "display_data"
    }
   ],
   "source": [
    "mask = r > 0.005                   # prevent asymptote flattening useful graph data\n",
    "plt.plot(r[mask], omega[mask]*((1/(2*np.pi))*60))\n",
    "plt.xlabel('Wheel Radius, m')\n",
    "plt.ylabel('Required Rotation Speed, rpm')"
   ]
  },
  {
   "cell_type": "markdown",
   "metadata": {},
   "source": [
    "  \n",
    "  \n",
    "   \n",
    "\n",
    "# What motor torque is needed?"
   ]
  },
  {
   "cell_type": "code",
   "execution_count": 34,
   "metadata": {},
   "outputs": [
    {
     "data": {
      "text/plain": [
       "Text(0, 0.5, 'Motor Torque Needed, Nm')"
      ]
     },
     "execution_count": 34,
     "metadata": {},
     "output_type": "execute_result"
    },
    {
     "data": {
      "image/png": "[encoded data removed]",
      "text/plain": [
       "<Figure size 432x288 with 1 Axes>"
      ]
     },
     "metadata": {
      "needs_background": "light"
     },
     "output_type": "display_data"
    }
   ],
   "source": [
    "torque_ds = mu * static_mass * g * r_ds        # Nm   friction torque in the driveshaft\n",
    "wheel_torque = (max_driving_force / 2) * r     # Nm   find the torque needed at each wheel\n",
    "\n",
    "motor_torque = wheel_torque*2 + torque_ds\n",
    "\n",
    "plt.plot(r, motor_torque)\n",
    "plt.xlabel('Wheel Radius, m')\n",
    "plt.ylabel('Motor Torque Needed, Nm')"
   ]
  },
  {
   "cell_type": "markdown",
   "metadata": {},
   "source": [
    "# Finding Specific Values"
   ]
  },
  {
   "cell_type": "code",
   "execution_count": 37,
   "metadata": {},
   "outputs": [
    {
     "data": {
      "text/html": [
       "<div>\n",
       "<style scoped>\n",
       "    .dataframe tbody tr th:only-of-type {\n",
       "        vertical-align: middle;\n",
       "    }\n",
       "\n",
       "    .dataframe tbody tr th {\n",
       "        vertical-align: top;\n",
       "    }\n",
       "\n",
       "    .dataframe thead th {\n",
       "        text-align: right;\n",
       "    }\n",
       "</style>\n",
       "<table border=\"1\" class=\"dataframe\">\n",
       "  <thead>\n",
       "    <tr style=\"text-align: right;\">\n",
       "      <th></th>\n",
       "      <th>wheel radius</th>\n",
       "      <th>motor torque</th>\n",
       "      <th>wheel speed</th>\n",
       "      <th>potential energy</th>\n",
       "    </tr>\n",
       "  </thead>\n",
       "  <tbody>\n",
       "    <tr>\n",
       "      <th>0</th>\n",
       "      <td>0.02</td>\n",
       "      <td>0.214627</td>\n",
       "      <td>3.333337</td>\n",
       "      <td>0.001739</td>\n",
       "    </tr>\n",
       "  </tbody>\n",
       "</table>\n",
       "</div>"
      ],
      "text/plain": [
       "   wheel radius  motor torque  wheel speed  potential energy\n",
       "0          0.02      0.214627     3.333337          0.001739"
      ]
     },
     "execution_count": 37,
     "metadata": {},
     "output_type": "execute_result"
    }
   ],
   "source": [
    "specified_radius = 0.02     # m\n",
    "spec_motor_torque = np.interp(specified_radius, r, motor_torque)\n",
    "spec_rot_speed = np.interp(specified_radius, r, omega)\n",
    "spec_rot_energy = np.interp(specified_radius, r, E)\n",
    "\n",
    "d = {'wheel radius': [specified_radius], 'motor torque': [spec_motor_torque], 'wheel speed': [spec_rot_speed], 'potential energy':[spec_rot_energy]}\n",
    "pd.DataFrame(data=d)"
   ]
  }
 ],
 "metadata": {
  "kernelspec": {
   "display_name": "Python 3",
   "language": "python",
   "name": "python3"
  },
  "language_info": {
   "codemirror_mode": {
    "name": "ipython",
    "version": 3
   },
   "file_extension": ".py",
   "mimetype": "text/x-python",
   "name": "python",
   "nbconvert_exporter": "python",
   "pygments_lexer": "ipython3",
   "version": "3.7.9"
  }
 },
 "nbformat": 4,
 "nbformat_minor": 1
}
